{
  "cells": [
    {
      "cell_type": "markdown",
      "id": "2b26b095",
      "metadata": {
        "id": "2b26b095"
      },
      "source": [
        "# Imports"
      ]
    },
    {
      "cell_type": "code",
      "execution_count": null,
      "id": "20a18456",
      "metadata": {
        "id": "20a18456"
      },
      "outputs": [],
      "source": [
        "#to use datafarmes\n",
        "import pandas as pd\n",
        "\n",
        "#to plot data\n",
        "import matplotlib.pyplot as plt\n",
        "import seaborn as sns\n",
        "\n",
        "#to deal with data\n",
        "import numpy as np\n",
        "\n",
        "#to use PI and e\n",
        "import math\n",
        "\n",
        "#to round the results\n",
        "from math import ceil\n",
        "\n",
        "#to calculate the gaussian naive bayes using python pacakges\n",
        "from sklearn.naive_bayes import GaussianNB\n",
        "\n",
        "#to split the data into training and test\n",
        "from sklearn.model_selection import train_test_split\n",
        "\n",
        "#to statistically test for normality\n",
        "from scipy.stats import shapiro"
      ]
    },
    {
      "cell_type": "markdown",
      "id": "042e1c2a",
      "metadata": {
        "id": "042e1c2a"
      },
      "source": [
        "# Reading Data"
      ]
    },
    {
      "cell_type": "code",
      "execution_count": null,
      "id": "2c6e07ed",
      "metadata": {
        "colab": {
          "base_uri": "https://localhost:8080/",
          "height": 397
        },
        "id": "2c6e07ed",
        "outputId": "8acdc5a2-5287-4dd0-d466-36af17504cbe"
      },
      "outputs": [
        {
          "output_type": "stream",
          "name": "stdout",
          "text": [
            "<class 'pandas.core.frame.DataFrame'>\n",
            "RangeIndex: 995 entries, 0 to 994\n",
            "Data columns (total 3 columns):\n",
            " #   Column         Non-Null Count  Dtype\n",
            "---  ------         --------------  -----\n",
            " 0   glucose        995 non-null    int64\n",
            " 1   bloodpressure  995 non-null    int64\n",
            " 2   diabetes       995 non-null    int64\n",
            "dtypes: int64(3)\n",
            "memory usage: 23.4 KB\n",
            "None\n"
          ]
        },
        {
          "output_type": "execute_result",
          "data": {
            "text/plain": [
              "   glucose  bloodpressure  diabetes\n",
              "0       40             85         0\n",
              "1       40             92         0\n",
              "2       45             63         1\n",
              "3       45             80         0\n",
              "4       40             73         1"
            ],
            "text/html": [
              "\n",
              "  <div id=\"df-ca4731a8-de5e-46d8-8cfa-45e8553be55d\">\n",
              "    <div class=\"colab-df-container\">\n",
              "      <div>\n",
              "<style scoped>\n",
              "    .dataframe tbody tr th:only-of-type {\n",
              "        vertical-align: middle;\n",
              "    }\n",
              "\n",
              "    .dataframe tbody tr th {\n",
              "        vertical-align: top;\n",
              "    }\n",
              "\n",
              "    .dataframe thead th {\n",
              "        text-align: right;\n",
              "    }\n",
              "</style>\n",
              "<table border=\"1\" class=\"dataframe\">\n",
              "  <thead>\n",
              "    <tr style=\"text-align: right;\">\n",
              "      <th></th>\n",
              "      <th>glucose</th>\n",
              "      <th>bloodpressure</th>\n",
              "      <th>diabetes</th>\n",
              "    </tr>\n",
              "  </thead>\n",
              "  <tbody>\n",
              "    <tr>\n",
              "      <th>0</th>\n",
              "      <td>40</td>\n",
              "      <td>85</td>\n",
              "      <td>0</td>\n",
              "    </tr>\n",
              "    <tr>\n",
              "      <th>1</th>\n",
              "      <td>40</td>\n",
              "      <td>92</td>\n",
              "      <td>0</td>\n",
              "    </tr>\n",
              "    <tr>\n",
              "      <th>2</th>\n",
              "      <td>45</td>\n",
              "      <td>63</td>\n",
              "      <td>1</td>\n",
              "    </tr>\n",
              "    <tr>\n",
              "      <th>3</th>\n",
              "      <td>45</td>\n",
              "      <td>80</td>\n",
              "      <td>0</td>\n",
              "    </tr>\n",
              "    <tr>\n",
              "      <th>4</th>\n",
              "      <td>40</td>\n",
              "      <td>73</td>\n",
              "      <td>1</td>\n",
              "    </tr>\n",
              "  </tbody>\n",
              "</table>\n",
              "</div>\n",
              "      <button class=\"colab-df-convert\" onclick=\"convertToInteractive('df-ca4731a8-de5e-46d8-8cfa-45e8553be55d')\"\n",
              "              title=\"Convert this dataframe to an interactive table.\"\n",
              "              style=\"display:none;\">\n",
              "        \n",
              "  <svg xmlns=\"http://www.w3.org/2000/svg\" height=\"24px\"viewBox=\"0 0 24 24\"\n",
              "       width=\"24px\">\n",
              "    <path d=\"M0 0h24v24H0V0z\" fill=\"none\"/>\n",
              "    <path d=\"M18.56 5.44l.94 2.06.94-2.06 2.06-.94-2.06-.94-.94-2.06-.94 2.06-2.06.94zm-11 1L8.5 8.5l.94-2.06 2.06-.94-2.06-.94L8.5 2.5l-.94 2.06-2.06.94zm10 10l.94 2.06.94-2.06 2.06-.94-2.06-.94-.94-2.06-.94 2.06-2.06.94z\"/><path d=\"M17.41 7.96l-1.37-1.37c-.4-.4-.92-.59-1.43-.59-.52 0-1.04.2-1.43.59L10.3 9.45l-7.72 7.72c-.78.78-.78 2.05 0 2.83L4 21.41c.39.39.9.59 1.41.59.51 0 1.02-.2 1.41-.59l7.78-7.78 2.81-2.81c.8-.78.8-2.07 0-2.86zM5.41 20L4 18.59l7.72-7.72 1.47 1.35L5.41 20z\"/>\n",
              "  </svg>\n",
              "      </button>\n",
              "      \n",
              "  <style>\n",
              "    .colab-df-container {\n",
              "      display:flex;\n",
              "      flex-wrap:wrap;\n",
              "      gap: 12px;\n",
              "    }\n",
              "\n",
              "    .colab-df-convert {\n",
              "      background-color: #E8F0FE;\n",
              "      border: none;\n",
              "      border-radius: 50%;\n",
              "      cursor: pointer;\n",
              "      display: none;\n",
              "      fill: #1967D2;\n",
              "      height: 32px;\n",
              "      padding: 0 0 0 0;\n",
              "      width: 32px;\n",
              "    }\n",
              "\n",
              "    .colab-df-convert:hover {\n",
              "      background-color: #E2EBFA;\n",
              "      box-shadow: 0px 1px 2px rgba(60, 64, 67, 0.3), 0px 1px 3px 1px rgba(60, 64, 67, 0.15);\n",
              "      fill: #174EA6;\n",
              "    }\n",
              "\n",
              "    [theme=dark] .colab-df-convert {\n",
              "      background-color: #3B4455;\n",
              "      fill: #D2E3FC;\n",
              "    }\n",
              "\n",
              "    [theme=dark] .colab-df-convert:hover {\n",
              "      background-color: #434B5C;\n",
              "      box-shadow: 0px 1px 3px 1px rgba(0, 0, 0, 0.15);\n",
              "      filter: drop-shadow(0px 1px 2px rgba(0, 0, 0, 0.3));\n",
              "      fill: #FFFFFF;\n",
              "    }\n",
              "  </style>\n",
              "\n",
              "      <script>\n",
              "        const buttonEl =\n",
              "          document.querySelector('#df-ca4731a8-de5e-46d8-8cfa-45e8553be55d button.colab-df-convert');\n",
              "        buttonEl.style.display =\n",
              "          google.colab.kernel.accessAllowed ? 'block' : 'none';\n",
              "\n",
              "        async function convertToInteractive(key) {\n",
              "          const element = document.querySelector('#df-ca4731a8-de5e-46d8-8cfa-45e8553be55d');\n",
              "          const dataTable =\n",
              "            await google.colab.kernel.invokeFunction('convertToInteractive',\n",
              "                                                     [key], {});\n",
              "          if (!dataTable) return;\n",
              "\n",
              "          const docLinkHtml = 'Like what you see? Visit the ' +\n",
              "            '<a target=\"_blank\" href=https://colab.research.google.com/notebooks/data_table.ipynb>data table notebook</a>'\n",
              "            + ' to learn more about interactive tables.';\n",
              "          element.innerHTML = '';\n",
              "          dataTable['output_type'] = 'display_data';\n",
              "          await google.colab.output.renderOutput(dataTable, element);\n",
              "          const docLink = document.createElement('div');\n",
              "          docLink.innerHTML = docLinkHtml;\n",
              "          element.appendChild(docLink);\n",
              "        }\n",
              "      </script>\n",
              "    </div>\n",
              "  </div>\n",
              "  "
            ]
          },
          "metadata": {},
          "execution_count": 15
        }
      ],
      "source": [
        "#like for the data:\n",
        "#https://www.kaggle.com/code/himanshunakrani/naive-bayes-classification\n",
        "#read data\n",
        "df = pd.read_csv(\"Naive-Bayes-Classification-Data.csv\")\n",
        "print(df.info())\n",
        "df.head()"
      ]
    },
    {
      "cell_type": "code",
      "execution_count": null,
      "id": "b7e13b83",
      "metadata": {
        "colab": {
          "base_uri": "https://localhost:8080/"
        },
        "id": "b7e13b83",
        "outputId": "eb136747-a958-460b-9f65-88420738f58a"
      },
      "outputs": [
        {
          "output_type": "stream",
          "name": "stdout",
          "text": [
            "<class 'pandas.core.frame.DataFrame'>\n",
            "RangeIndex: 995 entries, 0 to 994\n",
            "Data columns (total 3 columns):\n",
            " #   Column         Non-Null Count  Dtype\n",
            "---  ------         --------------  -----\n",
            " 0   glucose        995 non-null    int64\n",
            " 1   bloodpressure  995 non-null    int64\n",
            " 2   diabetes       995 non-null    bool \n",
            "dtypes: bool(1), int64(2)\n",
            "memory usage: 16.6 KB\n"
          ]
        }
      ],
      "source": [
        "#to make the \"diabetes\" column become boolean\n",
        "df[\"diabetes\"] = df[\"diabetes\"].astype(bool)\n",
        "df.info()"
      ]
    },
    {
      "cell_type": "code",
      "execution_count": null,
      "id": "b514b52f",
      "metadata": {
        "colab": {
          "base_uri": "https://localhost:8080/",
          "height": 300
        },
        "id": "b514b52f",
        "outputId": "05ab0cc8-c54c-4b91-ef5a-b18b6b857b84"
      },
      "outputs": [
        {
          "output_type": "execute_result",
          "data": {
            "text/plain": [
              "          glucose  bloodpressure\n",
              "count  995.000000     995.000000\n",
              "mean    44.306533      79.184925\n",
              "std      6.707567       9.340204\n",
              "min     20.000000      50.000000\n",
              "25%     40.000000      72.000000\n",
              "50%     45.000000      80.000000\n",
              "75%     50.000000      87.000000\n",
              "max     70.000000     100.000000"
            ],
            "text/html": [
              "\n",
              "  <div id=\"df-7164f206-6a87-4f34-b657-935028e7adc5\">\n",
              "    <div class=\"colab-df-container\">\n",
              "      <div>\n",
              "<style scoped>\n",
              "    .dataframe tbody tr th:only-of-type {\n",
              "        vertical-align: middle;\n",
              "    }\n",
              "\n",
              "    .dataframe tbody tr th {\n",
              "        vertical-align: top;\n",
              "    }\n",
              "\n",
              "    .dataframe thead th {\n",
              "        text-align: right;\n",
              "    }\n",
              "</style>\n",
              "<table border=\"1\" class=\"dataframe\">\n",
              "  <thead>\n",
              "    <tr style=\"text-align: right;\">\n",
              "      <th></th>\n",
              "      <th>glucose</th>\n",
              "      <th>bloodpressure</th>\n",
              "    </tr>\n",
              "  </thead>\n",
              "  <tbody>\n",
              "    <tr>\n",
              "      <th>count</th>\n",
              "      <td>995.000000</td>\n",
              "      <td>995.000000</td>\n",
              "    </tr>\n",
              "    <tr>\n",
              "      <th>mean</th>\n",
              "      <td>44.306533</td>\n",
              "      <td>79.184925</td>\n",
              "    </tr>\n",
              "    <tr>\n",
              "      <th>std</th>\n",
              "      <td>6.707567</td>\n",
              "      <td>9.340204</td>\n",
              "    </tr>\n",
              "    <tr>\n",
              "      <th>min</th>\n",
              "      <td>20.000000</td>\n",
              "      <td>50.000000</td>\n",
              "    </tr>\n",
              "    <tr>\n",
              "      <th>25%</th>\n",
              "      <td>40.000000</td>\n",
              "      <td>72.000000</td>\n",
              "    </tr>\n",
              "    <tr>\n",
              "      <th>50%</th>\n",
              "      <td>45.000000</td>\n",
              "      <td>80.000000</td>\n",
              "    </tr>\n",
              "    <tr>\n",
              "      <th>75%</th>\n",
              "      <td>50.000000</td>\n",
              "      <td>87.000000</td>\n",
              "    </tr>\n",
              "    <tr>\n",
              "      <th>max</th>\n",
              "      <td>70.000000</td>\n",
              "      <td>100.000000</td>\n",
              "    </tr>\n",
              "  </tbody>\n",
              "</table>\n",
              "</div>\n",
              "      <button class=\"colab-df-convert\" onclick=\"convertToInteractive('df-7164f206-6a87-4f34-b657-935028e7adc5')\"\n",
              "              title=\"Convert this dataframe to an interactive table.\"\n",
              "              style=\"display:none;\">\n",
              "        \n",
              "  <svg xmlns=\"http://www.w3.org/2000/svg\" height=\"24px\"viewBox=\"0 0 24 24\"\n",
              "       width=\"24px\">\n",
              "    <path d=\"M0 0h24v24H0V0z\" fill=\"none\"/>\n",
              "    <path d=\"M18.56 5.44l.94 2.06.94-2.06 2.06-.94-2.06-.94-.94-2.06-.94 2.06-2.06.94zm-11 1L8.5 8.5l.94-2.06 2.06-.94-2.06-.94L8.5 2.5l-.94 2.06-2.06.94zm10 10l.94 2.06.94-2.06 2.06-.94-2.06-.94-.94-2.06-.94 2.06-2.06.94z\"/><path d=\"M17.41 7.96l-1.37-1.37c-.4-.4-.92-.59-1.43-.59-.52 0-1.04.2-1.43.59L10.3 9.45l-7.72 7.72c-.78.78-.78 2.05 0 2.83L4 21.41c.39.39.9.59 1.41.59.51 0 1.02-.2 1.41-.59l7.78-7.78 2.81-2.81c.8-.78.8-2.07 0-2.86zM5.41 20L4 18.59l7.72-7.72 1.47 1.35L5.41 20z\"/>\n",
              "  </svg>\n",
              "      </button>\n",
              "      \n",
              "  <style>\n",
              "    .colab-df-container {\n",
              "      display:flex;\n",
              "      flex-wrap:wrap;\n",
              "      gap: 12px;\n",
              "    }\n",
              "\n",
              "    .colab-df-convert {\n",
              "      background-color: #E8F0FE;\n",
              "      border: none;\n",
              "      border-radius: 50%;\n",
              "      cursor: pointer;\n",
              "      display: none;\n",
              "      fill: #1967D2;\n",
              "      height: 32px;\n",
              "      padding: 0 0 0 0;\n",
              "      width: 32px;\n",
              "    }\n",
              "\n",
              "    .colab-df-convert:hover {\n",
              "      background-color: #E2EBFA;\n",
              "      box-shadow: 0px 1px 2px rgba(60, 64, 67, 0.3), 0px 1px 3px 1px rgba(60, 64, 67, 0.15);\n",
              "      fill: #174EA6;\n",
              "    }\n",
              "\n",
              "    [theme=dark] .colab-df-convert {\n",
              "      background-color: #3B4455;\n",
              "      fill: #D2E3FC;\n",
              "    }\n",
              "\n",
              "    [theme=dark] .colab-df-convert:hover {\n",
              "      background-color: #434B5C;\n",
              "      box-shadow: 0px 1px 3px 1px rgba(0, 0, 0, 0.15);\n",
              "      filter: drop-shadow(0px 1px 2px rgba(0, 0, 0, 0.3));\n",
              "      fill: #FFFFFF;\n",
              "    }\n",
              "  </style>\n",
              "\n",
              "      <script>\n",
              "        const buttonEl =\n",
              "          document.querySelector('#df-7164f206-6a87-4f34-b657-935028e7adc5 button.colab-df-convert');\n",
              "        buttonEl.style.display =\n",
              "          google.colab.kernel.accessAllowed ? 'block' : 'none';\n",
              "\n",
              "        async function convertToInteractive(key) {\n",
              "          const element = document.querySelector('#df-7164f206-6a87-4f34-b657-935028e7adc5');\n",
              "          const dataTable =\n",
              "            await google.colab.kernel.invokeFunction('convertToInteractive',\n",
              "                                                     [key], {});\n",
              "          if (!dataTable) return;\n",
              "\n",
              "          const docLinkHtml = 'Like what you see? Visit the ' +\n",
              "            '<a target=\"_blank\" href=https://colab.research.google.com/notebooks/data_table.ipynb>data table notebook</a>'\n",
              "            + ' to learn more about interactive tables.';\n",
              "          element.innerHTML = '';\n",
              "          dataTable['output_type'] = 'display_data';\n",
              "          await google.colab.output.renderOutput(dataTable, element);\n",
              "          const docLink = document.createElement('div');\n",
              "          docLink.innerHTML = docLinkHtml;\n",
              "          element.appendChild(docLink);\n",
              "        }\n",
              "      </script>\n",
              "    </div>\n",
              "  </div>\n",
              "  "
            ]
          },
          "metadata": {},
          "execution_count": 17
        }
      ],
      "source": [
        "#check for the outliers using IQR\n",
        "df.describe()"
      ]
    },
    {
      "cell_type": "code",
      "execution_count": null,
      "id": "a282471a",
      "metadata": {
        "colab": {
          "base_uri": "https://localhost:8080/",
          "height": 447
        },
        "id": "a282471a",
        "outputId": "a1757725-5160-44b6-e177-cd93229b7d68"
      },
      "outputs": [
        {
          "output_type": "execute_result",
          "data": {
            "text/plain": [
              "<Axes: >"
            ]
          },
          "metadata": {},
          "execution_count": 18
        },
        {
          "output_type": "display_data",
          "data": {
            "text/plain": [
              "<Figure size 640x480 with 1 Axes>"
            ],
            "image/png": "[encoded data removed]"
          },
          "metadata": {}
        }
      ],
      "source": [
        "df.boxplot()"
      ]
    },
    {
      "cell_type": "code",
      "execution_count": null,
      "id": "01c7786b",
      "metadata": {
        "colab": {
          "base_uri": "https://localhost:8080/"
        },
        "id": "01c7786b",
        "outputId": "5c9f2956-555e-4389-aa97-874d57bfbe48"
      },
      "outputs": [
        {
          "output_type": "stream",
          "name": "stdout",
          "text": [
            "10.0\n"
          ]
        }
      ],
      "source": [
        "#calculating IQR\n",
        "Q1 = np.percentile(df['glucose'], 25, method='midpoint')\n",
        "Q3 = np.percentile(df['glucose'], 75, method='midpoint')\n",
        "IQR = Q3 - Q1\n",
        "print(IQR)"
      ]
    },
    {
      "cell_type": "code",
      "execution_count": null,
      "id": "769d672b",
      "metadata": {
        "colab": {
          "base_uri": "https://localhost:8080/"
        },
        "id": "769d672b",
        "outputId": "dd0f4c60-2c30-47e4-8107-68896e20f35e"
      },
      "outputs": [
        {
          "output_type": "stream",
          "name": "stdout",
          "text": [
            "Upper Bound: 65.0\n",
            "Lower Bound: 25.0\n"
          ]
        }
      ],
      "source": [
        "# Above Upper bound\n",
        "upper_limit=Q3+1.5*IQR\n",
        "print(\"Upper Bound:\",upper_limit)\n",
        "\n",
        "#Below Lower bound\n",
        "lower_limit=Q1-1.5*IQR\n",
        "print(\"Lower Bound:\",lower_limit)"
      ]
    },
    {
      "cell_type": "code",
      "execution_count": null,
      "id": "b2e503d3",
      "metadata": {
        "colab": {
          "base_uri": "https://localhost:8080/"
        },
        "id": "b2e503d3",
        "outputId": "e0722b9a-bd6b-4794-c4da-3dc53a525ea7"
      },
      "outputs": [
        {
          "output_type": "stream",
          "name": "stdout",
          "text": [
            "<class 'pandas.core.frame.DataFrame'>\n",
            "Int64Index: 972 entries, 0 to 994\n",
            "Data columns (total 3 columns):\n",
            " #   Column         Non-Null Count  Dtype\n",
            "---  ------         --------------  -----\n",
            " 0   glucose        972 non-null    int64\n",
            " 1   bloodpressure  972 non-null    int64\n",
            " 2   diabetes       972 non-null    bool \n",
            "dtypes: bool(1), int64(2)\n",
            "memory usage: 23.7 KB\n"
          ]
        }
      ],
      "source": [
        "#Removing the outliers\n",
        "z = np.where(df['glucose']>=upper_limit)[0]\n",
        "w = np.where(df['glucose']<=lower_limit)[0]\n",
        "df.drop(z, axis= 0, inplace=True)\n",
        "df.drop(w, axis= 0, inplace=True)\n",
        "df.info()"
      ]
    },
    {
      "cell_type": "markdown",
      "id": "9428a4b9",
      "metadata": {
        "id": "9428a4b9"
      },
      "source": [
        "### Both \"Glucose\" and \"Bloodpressure\" are Quantitative while \"Diabetes\" is Categorical"
      ]
    },
    {
      "cell_type": "code",
      "execution_count": null,
      "id": "76b1b052",
      "metadata": {
        "id": "76b1b052"
      },
      "outputs": [],
      "source": [
        "#split data vertically\n",
        "X = df.drop(columns=\"diabetes\")\n",
        "y = df[\"diabetes\"]"
      ]
    },
    {
      "cell_type": "markdown",
      "id": "f335072d",
      "metadata": {
        "id": "f335072d"
      },
      "source": [
        "# Descriptive Statistics"
      ]
    },
    {
      "cell_type": "code",
      "execution_count": null,
      "id": "eece134b",
      "metadata": {
        "colab": {
          "base_uri": "https://localhost:8080/"
        },
        "id": "eece134b",
        "outputId": "14a94d58-bdbb-4557-a5d5-8d4c42e5ae9a"
      },
      "outputs": [
        {
          "output_type": "stream",
          "name": "stdout",
          "text": [
            "bloodpressure\tmean: 79.36934156378601 , \tstd: 9.311322541690146  , \tdispersion: 86.61152919609138\n",
            "glucose\t\tmean: 44.35699588477366 , \t\tstd: 5.958414281478385  , \tdispersion: 35.46617533743162 \n"
          ]
        }
      ],
      "source": [
        "#calculating measures of central tendency\n",
        "bldSTD = X[\"bloodpressure\"].std()\n",
        "bldMN = X[\"bloodpressure\"].mean()\n",
        "bldvar= np.var(X[\"bloodpressure\"])\n",
        "gluSTD = X[\"glucose\"].std()\n",
        "gluMN = X[\"glucose\"].mean()\n",
        "gluvar=np.var(X[\"glucose\"])\n",
        "\n",
        "print(f\"bloodpressure\\tmean: {bldMN} , \\tstd: {bldSTD}  , \\tdispersion: {bldvar}\")\n",
        "print(f\"glucose\\t\\tmean: {gluMN} , \\t\\tstd: {gluSTD}  , \\tdispersion: {gluvar} \")"
      ]
    },
    {
      "cell_type": "markdown",
      "id": "a14e6713",
      "metadata": {
        "id": "a14e6713"
      },
      "source": [
        "# **Standard Data**"
      ]
    },
    {
      "cell_type": "code",
      "execution_count": null,
      "id": "cadbff6d",
      "metadata": {
        "colab": {
          "base_uri": "https://localhost:8080/"
        },
        "id": "cadbff6d",
        "outputId": "5601547b-fed3-42ea-c76a-f63f0c7bb087"
      },
      "outputs": [
        {
          "output_type": "stream",
          "name": "stdout",
          "text": [
            "bloodpressure\tmean:0  \tstd: 1\n",
            "glucose\tmean:0  \tstd: 1\n"
          ]
        }
      ],
      "source": [
        "#make the data standard by setting the mean to zero and the standard deviation to one\n",
        "stand_bld=(X[\"bloodpressure\"]-X[\"bloodpressure\"].mean())/X[\"bloodpressure\"].std()\n",
        "stand_glu=( X[\"glucose\"]-X[\"glucose\"].mean())/X[\"glucose\"].std()\n",
        "stand_bldmn=np.mean(stand_bld)\n",
        "stand_bldstd=np.std(stand_bld)\n",
        "\n",
        "stand_glumn=np.mean(stand_glu)\n",
        "stand_glustd=np.std(stand_glu)\n",
        "\n",
        "print(f\"bloodpressure\\tmean:{round(stand_bldmn)}  \\tstd: {ceil(stand_bldstd)}\")\n",
        "print(f\"glucose\\tmean:{round(stand_glumn)}  \\tstd: {ceil(stand_glustd)}\")"
      ]
    },
    {
      "cell_type": "markdown",
      "source": [
        "#**Splitting Data**"
      ],
      "metadata": {
        "id": "VCPiIhzrD6x6"
      },
      "id": "VCPiIhzrD6x6"
    },
    {
      "cell_type": "code",
      "source": [
        "#split data horizontally (80% and 20%)\n",
        "X_train_org,X_test_org,y_train,y_test=train_test_split(X,y, test_size=0.2, random_state=42)\n",
        "print(\"Training size=\",len(X_train_org), \"\\t,Test size=\", len(X_test_org))"
      ],
      "metadata": {
        "id": "8tVhniHpCd-_",
        "colab": {
          "base_uri": "https://localhost:8080/"
        },
        "outputId": "789b9bd6-b15a-4002-d6e8-82dbdd0afa2a"
      },
      "id": "8tVhniHpCd-_",
      "execution_count": null,
      "outputs": [
        {
          "output_type": "stream",
          "name": "stdout",
          "text": [
            "Training size= 777 \t,Test size= 195\n"
          ]
        }
      ]
    },
    {
      "cell_type": "markdown",
      "id": "186c1ba4",
      "metadata": {
        "id": "186c1ba4"
      },
      "source": [
        "# **Splitting Data after standardisation**"
      ]
    },
    {
      "cell_type": "code",
      "execution_count": null,
      "id": "a2f71cfb",
      "metadata": {
        "colab": {
          "base_uri": "https://localhost:8080/"
        },
        "id": "a2f71cfb",
        "outputId": "6f5ebd80-66b4-464c-bcf6-965e21d4db9b"
      },
      "outputs": [
        {
          "output_type": "stream",
          "name": "stdout",
          "text": [
            "Training size = 777 \t,Test size = 195\n"
          ]
        }
      ],
      "source": [
        "#split data horizontally (80% and 20%)\n",
        "X_stand=pd.concat((stand_glu,stand_bld),axis=1)\n",
        "X_train_stand, X_test_stand, y_train_stand, y_test_stand = train_test_split(X_stand, y, test_size=0.2, random_state=42)\n",
        "print(\"Training size =\",len(X_train_stand) , \"\\t,Test size =\", len(X_test_stand))"
      ]
    },
    {
      "cell_type": "markdown",
      "id": "950a102f",
      "metadata": {
        "id": "950a102f"
      },
      "source": [
        "# Histogram Plots"
      ]
    },
    {
      "cell_type": "code",
      "execution_count": null,
      "id": "d25da2cf",
      "metadata": {
        "colab": {
          "base_uri": "https://localhost:8080/",
          "height": 523
        },
        "id": "d25da2cf",
        "outputId": "063760c7-337a-48ad-cab9-32383e575b0d"
      },
      "outputs": [
        {
          "output_type": "execute_result",
          "data": {
            "text/plain": [
              "<seaborn.axisgrid.FacetGrid at 0x7fa7ff0cd6f0>"
            ]
          },
          "metadata": {},
          "execution_count": 27
        },
        {
          "output_type": "display_data",
          "data": {
            "text/plain": [
              "<Figure size 500x500 with 1 Axes>"
            ],
            "image/png": "[encoded data removed]"
          },
          "metadata": {}
        }
      ],
      "source": [
        "#plot a histogram of \"glucose\"\n",
        "sns.displot(X_train_stand[\"glucose\"],kde=True,kind='hist')"
      ]
    },
    {
      "cell_type": "markdown",
      "id": "a53bf954",
      "metadata": {
        "id": "a53bf954"
      },
      "source": [
        "### It's a multi-modal distribution"
      ]
    },
    {
      "cell_type": "code",
      "execution_count": null,
      "id": "df58d7ba",
      "metadata": {
        "colab": {
          "base_uri": "https://localhost:8080/",
          "height": 523
        },
        "id": "df58d7ba",
        "outputId": "888e6a2d-42d1-41b1-fc1a-d35b6ca289ed"
      },
      "outputs": [
        {
          "output_type": "execute_result",
          "data": {
            "text/plain": [
              "<seaborn.axisgrid.FacetGrid at 0x7fa7c8b6bc40>"
            ]
          },
          "metadata": {},
          "execution_count": 28
        },
        {
          "output_type": "display_data",
          "data": {
            "text/plain": [
              "<Figure size 500x500 with 1 Axes>"
            ],
            "image/png": "[encoded data removed]"
          },
          "metadata": {}
        }
      ],
      "source": [
        "#plot a histogram of \"bloodpressure\"\n",
        "sns.displot(X_train_stand[\"bloodpressure\"],kde=True,kind='hist')\n"
      ]
    },
    {
      "cell_type": "markdown",
      "id": "1ad3e569",
      "metadata": {
        "id": "1ad3e569"
      },
      "source": [
        "### It's a bimodal distribution"
      ]
    },
    {
      "cell_type": "markdown",
      "id": "b52d99bc",
      "metadata": {
        "id": "b52d99bc"
      },
      "source": [
        "# Testing Normality"
      ]
    },
    {
      "cell_type": "code",
      "execution_count": null,
      "id": "76f75429",
      "metadata": {
        "colab": {
          "base_uri": "https://localhost:8080/"
        },
        "id": "76f75429",
        "outputId": "150a8817-559a-4a25-d316-45c828ea196b"
      },
      "outputs": [
        {
          "output_type": "stream",
          "name": "stdout",
          "text": [
            "pvalue: ShapiroResult(statistic=0.9726011753082275, pvalue=6.790084466912205e-11)\n"
          ]
        }
      ],
      "source": [
        "#for \"Bloodpressure\" column\n",
        "#we use shapiro-wilk test\n",
        "pvalue =shapiro(X_train_stand[\"bloodpressure\"])\n",
        "#here pvalue should be greater than 0.05 'significance level' to show that the X_train 'sample' drawn from a normally distributed population\n",
        "print(\"pvalue:\",pvalue)"
      ]
    },
    {
      "cell_type": "markdown",
      "source": [
        "### Since the pvalue is less than 0.05 , we reject the null hypothesis and this means that the data is not a normal distribution"
      ],
      "metadata": {
        "id": "fe33x9xMo3E_"
      },
      "id": "fe33x9xMo3E_"
    },
    {
      "cell_type": "code",
      "source": [
        "#for \"glucose\" column\n",
        "#we use shapiro-wilk test\n",
        "pvalue=shapiro(X_train_stand[\"glucose\"])\n",
        "#here pvalue should be grater than 0.05'significance level' to show that the X_train 'sample' drawn from a normally distributed population\n",
        "print(\"pvalue:\",pvalue)"
      ],
      "metadata": {
        "colab": {
          "base_uri": "https://localhost:8080/"
        },
        "id": "zzFlknuk7u7d",
        "outputId": "6cd7e7a1-e435-4d21-e8c8-a6cf36f2a7c4"
      },
      "id": "zzFlknuk7u7d",
      "execution_count": null,
      "outputs": [
        {
          "output_type": "stream",
          "name": "stdout",
          "text": [
            "pvalue: ShapiroResult(statistic=0.9307020902633667, pvalue=1.7425194464549662e-18)\n"
          ]
        }
      ]
    },
    {
      "cell_type": "markdown",
      "source": [
        "### Since pvalue is less than 0.05 , we reject the null hypothesis and this means that the data is not a normal distribution"
      ],
      "metadata": {
        "id": "AGa6tJ5Fpt1I"
      },
      "id": "AGa6tJ5Fpt1I"
    },
    {
      "cell_type": "code",
      "execution_count": null,
      "id": "0db0e281",
      "metadata": {
        "id": "0db0e281"
      },
      "outputs": [],
      "source": [
        "#splitting data according to classes\n",
        "temp = pd.concat([X_train_stand, y_train_stand], axis =1)\n",
        "trueClass = temp[temp[\"diabetes\"] == True]\n",
        "falseClass = temp[temp[\"diabetes\"] == False]"
      ]
    },
    {
      "cell_type": "markdown",
      "id": "bfbc94e1",
      "metadata": {
        "id": "bfbc94e1"
      },
      "source": [
        "## True Class"
      ]
    },
    {
      "cell_type": "code",
      "execution_count": null,
      "id": "8faa8ff3",
      "metadata": {
        "colab": {
          "base_uri": "https://localhost:8080/",
          "height": 430
        },
        "id": "8faa8ff3",
        "outputId": "b94cc110-f5a1-4eb8-a81e-b61b86ffbf7c"
      },
      "outputs": [
        {
          "output_type": "display_data",
          "data": {
            "text/plain": [
              "<Figure size 640x480 with 1 Axes>"
            ],
            "image/png": "[encoded data removed]"
          },
          "metadata": {}
        }
      ],
      "source": [
        "#for \"bloodpressure\" column\n",
        "plt.hist(trueClass[\"bloodpressure\"]);"
      ]
    },
    {
      "cell_type": "code",
      "execution_count": null,
      "id": "1b4229c1",
      "metadata": {
        "colab": {
          "base_uri": "https://localhost:8080/",
          "height": 430
        },
        "id": "1b4229c1",
        "outputId": "4e37aace-ee71-4dd0-e9e1-765ba49ff3cd"
      },
      "outputs": [
        {
          "output_type": "display_data",
          "data": {
            "text/plain": [
              "<Figure size 640x480 with 1 Axes>"
            ],
            "image/png": "[encoded data removed]"
          },
          "metadata": {}
        }
      ],
      "source": [
        "#for \"glucose\" column\n",
        "plt.hist(trueClass[\"glucose\"]);"
      ]
    },
    {
      "cell_type": "markdown",
      "id": "12838a98",
      "metadata": {
        "id": "12838a98"
      },
      "source": [
        "## False Class"
      ]
    },
    {
      "cell_type": "code",
      "execution_count": null,
      "id": "d9d453f6",
      "metadata": {
        "colab": {
          "base_uri": "https://localhost:8080/",
          "height": 430
        },
        "id": "d9d453f6",
        "outputId": "5b6116b8-f212-48cb-c5cd-97566bbe16a3"
      },
      "outputs": [
        {
          "output_type": "display_data",
          "data": {
            "text/plain": [
              "<Figure size 640x480 with 1 Axes>"
            ],
            "image/png": "[encoded data removed]"
          },
          "metadata": {}
        }
      ],
      "source": [
        "#for \"bloodpressure\" column\n",
        "plt.hist(falseClass[\"bloodpressure\"]);"
      ]
    },
    {
      "cell_type": "code",
      "execution_count": null,
      "id": "576ea35a",
      "metadata": {
        "colab": {
          "base_uri": "https://localhost:8080/",
          "height": 430
        },
        "id": "576ea35a",
        "outputId": "a9345b8a-a7f7-4e75-de3a-d014e79e1abb"
      },
      "outputs": [
        {
          "output_type": "display_data",
          "data": {
            "text/plain": [
              "<Figure size 640x480 with 1 Axes>"
            ],
            "image/png": "[encoded data removed]"
          },
          "metadata": {}
        }
      ],
      "source": [
        "#for \"glucose\" column\n",
        "plt.hist(falseClass[\"glucose\"]);"
      ]
    },
    {
      "cell_type": "markdown",
      "id": "d7ee0ce6",
      "metadata": {
        "id": "d7ee0ce6"
      },
      "source": [
        "# **Creating the NB Model**"
      ]
    },
    {
      "cell_type": "code",
      "execution_count": null,
      "id": "bb950bcf",
      "metadata": {
        "id": "bb950bcf"
      },
      "outputs": [],
      "source": [
        "#function to calculate the gaussian distribution\n",
        "def getNormalDist(x, std, mean):\n",
        "    power = -0.5 * ( (x - mean) / std)**2\n",
        "    return (1 / std * np.sqrt(2*math.pi) ) * math.exp(power)\n",
        "\n",
        "class NB:\n",
        "    def __init__(self):\n",
        "        #constuctor to set the initialize the variables\n",
        "        self.pFalse = 0\n",
        "        self.pTrue = 0\n",
        "\n",
        "        self.falseBldMean = 0\n",
        "        self.falseBldStd = 0\n",
        "        self.falseGluMean = 0\n",
        "        self.falseGluStd =0\n",
        "\n",
        "        self.trueBldMean = 0\n",
        "        self.trueBldStd = 0\n",
        "        self.trueGluMean = 0\n",
        "        self.trueGluStd =0\n",
        "\n",
        "\n",
        "\n",
        "    def train(self, xNB, yNB):\n",
        "        #to calculate the prior probabilities\n",
        "        self.pFalse = yNB.value_counts()[0]/ len(yNB)\n",
        "        self.pTrue = yNB.value_counts()[1]/ len(yNB)\n",
        "\n",
        "        #getting records with ture \"diabetes\"\n",
        "        tempDF = pd.concat([xNB, yNB], axis =1)\n",
        "        trueDiabetes = tempDF[tempDF[\"diabetes\"] == True]\n",
        "        #getting parameters for normal distribution of records with true \"diabetes\"\n",
        "        self.trueBldMean = trueDiabetes[\"bloodpressure\"].mean()\n",
        "        self.trueBldStd = trueDiabetes[\"bloodpressure\"].std()\n",
        "        self.trueGluMean = trueDiabetes[\"glucose\"].mean()\n",
        "        self.trueGluStd = trueDiabetes[\"glucose\"].std()\n",
        "        #getting records with false \"diabetes\"\n",
        "        falseDiabetes = tempDF[tempDF[\"diabetes\"] == False]\n",
        "\n",
        "        #getting parameters for normal distribution of records with false \"diabetes\"\n",
        "        self.falseBldMean = falseDiabetes[\"bloodpressure\"].mean()\n",
        "        self.falseBldStd = falseDiabetes[\"bloodpressure\"].std()\n",
        "        self.falseGluMean = falseDiabetes[\"glucose\"].mean()\n",
        "        self.falseGluStd = falseDiabetes[\"glucose\"].std()\n",
        "\n",
        "\n",
        "\n",
        "    def predict(self, inList):\n",
        "        #empty list to hold prediction results\n",
        "        pred = []\n",
        "\n",
        "        for i in range(len(inList)):\n",
        "            x = inList.iloc[i].values\n",
        "\n",
        "            #calculate the probability of each category using Naive Bayes\n",
        "            probFalse = self.pFalse * getNormalDist(x[0], self.falseGluStd, self.falseGluMean) * getNormalDist(x[1], self.falseBldStd, self.falseBldMean)\n",
        "            probTrue = self.pTrue * getNormalDist(x[0], self.trueGluStd, self.trueGluMean) * getNormalDist(x[1], self.trueBldStd, self.trueBldMean)\n",
        "\n",
        "            #add true or false to the predictions list depending on which probability is greater\n",
        "            if probTrue >= probFalse:\n",
        "                pred.append(True)\n",
        "            else:\n",
        "                pred.append(False)\n",
        "\n",
        "        return pred\n",
        "\n",
        "    def printAll(self):\n",
        "        #print all variables to check\n",
        "        print(self.pFalse)\n",
        "        print(self.pTrue)\n",
        "\n",
        "        print(self.falseBldMean)\n",
        "        print(self.falseBldStd)\n",
        "        print(self.falseGluMean)\n",
        "        print(self.falseGluStd)\n",
        "\n",
        "        print(self.trueBldMean)\n",
        "        print(self.trueBldStd)\n",
        "        print(self.trueGluMean)\n",
        "        print(self.trueGluStd)\n",
        "\n",
        "\n",
        "\n",
        "    def accuracy(self, inList, refList):\n",
        "        #calculate the accuracy by adding 1 if the prediction is correct then divide by the length\n",
        "        acc = 0\n",
        "        for i in range(len(inList)):\n",
        "            if(inList[i] == refList.iloc[i]):\n",
        "                acc += 1\n",
        "\n",
        "        return acc / len(inList) * 100"
      ]
    },
    {
      "cell_type": "code",
      "execution_count": null,
      "id": "4175f225",
      "metadata": {
        "colab": {
          "base_uri": "https://localhost:8080/"
        },
        "id": "4175f225",
        "outputId": "4c1d27a1-9c9c-4661-eee2-0738ad6179b8"
      },
      "outputs": [
        {
          "output_type": "stream",
          "name": "stdout",
          "text": [
            "[True, True, False, True, True]\n"
          ]
        },
        {
          "output_type": "execute_result",
          "data": {
            "text/plain": [
              "94.87179487179486"
            ]
          },
          "metadata": {},
          "execution_count": 37
        }
      ],
      "source": [
        "#train the model\n",
        "nb =NB()\n",
        "nb.train(X_train_stand, y_train)\n",
        "\n",
        "#predict the test set\n",
        "pred = nb.predict(X_test_stand)\n",
        "#print the first 5 predictions\n",
        "print(pred[:5])\n",
        "#calculate the accuracy\n",
        "nb.accuracy(pred,y_test)"
      ]
    },
    {
      "cell_type": "markdown",
      "id": "aad94419",
      "metadata": {
        "id": "aad94419"
      },
      "source": [
        "## Using Python Packages"
      ]
    },
    {
      "cell_type": "code",
      "execution_count": null,
      "id": "013d8128",
      "metadata": {
        "colab": {
          "base_uri": "https://localhost:8080/"
        },
        "id": "013d8128",
        "outputId": "4f9b49fe-2db7-42c4-9696-bad2fa2ff315"
      },
      "outputs": [
        {
          "output_type": "stream",
          "name": "stdout",
          "text": [
            "94.87179487179486\n",
            "The two models have 100.0% match\n"
          ]
        }
      ],
      "source": [
        "gnb = GaussianNB()\n",
        "\n",
        "gnb.fit(X_train_stand,y_train)\n",
        "GNBpred = gnb.predict(X_test_stand)\n",
        "from sklearn.metrics import accuracy_score\n",
        "accuracy=accuracy_score(y_test,GNBpred)\n",
        "print(accuracy*100)\n",
        "\n",
        "match = 0\n",
        "for i in range(len(pred)):\n",
        "    if pred[i] == GNBpred[i]:\n",
        "        match += 1\n",
        "\n",
        "print(f\"The two models have {match / len(pred)*100}% match\")"
      ]
    }
  ],
  "metadata": {
    "kernelspec": {
      "display_name": "Python 3 (ipykernel)",
      "language": "python",
      "name": "python3"
    },
    "language_info": {
      "codemirror_mode": {
        "name": "ipython",
        "version": 3
      },
      "file_extension": ".py",
      "mimetype": "text/x-python",
      "name": "python",
      "nbconvert_exporter": "python",
      "pygments_lexer": "ipython3",
      "version": "3.10.9"
    },
    "colab": {
      "provenance": []
    }
  },
  "nbformat": 4,
  "nbformat_minor": 5
}